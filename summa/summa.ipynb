{
 "cells": [
  {
   "cell_type": "code",
   "execution_count": 1,
   "metadata": {},
   "outputs": [],
   "source": [
    "import os\n",
    "import math\n",
    "import string\n",
    "import numpy as np\n",
    "import sys\n",
    "sys.path.append('../src')\n",
    "import util"
   ]
  },
  {
   "cell_type": "code",
   "execution_count": 11,
   "metadata": {},
   "outputs": [
    {
     "data": {
      "text/plain": [
       "'/glade/p/work/manab/fcast/PNW/summa_zLocalParamInfo_calib.txt'"
      ]
     },
     "execution_count": 11,
     "metadata": {},
     "output_type": "execute_result"
    }
   ],
   "source": [
    "#######################################################\n",
    "# USER SPECIFIC SECTION\n",
    "#======================================================\n",
    "modelpath = '/glade/p/work/manab/fcast/newsumma/summa'\n",
    "datapath = '/glade/p/work/manab/fcast/PNW'\n",
    "controlFileName = \"summa_fileManager_new.txt\"\n",
    "paramFile = 'summa_zLocalParamInfo_calib.txt'\n",
    "paramTemplate = 'summa_zLocalParamInfo_template.txt'\n",
    "\n",
    "appInputFiles = os.path.join(datapath, paramFile)\n",
    "appInputTmplts = [\"sac_params.HHWM8.txt.tmplt\", \"snow17_params.HHWM8.txt.tmplt\", \"uh_params.HHWM8.txt.tmplt\"]\n",
    "appInputFiles\n"
   ]
  },
  {
   "cell_type": "code",
   "execution_count": 10,
   "metadata": {},
   "outputs": [
    {
     "ename": "SyntaxError",
     "evalue": "'return' outside function (<ipython-input-10-d87c96331387>, line 31)",
     "output_type": "error",
     "traceback": [
      "\u001b[0;36m  File \u001b[0;32m\"<ipython-input-10-d87c96331387>\"\u001b[0;36m, line \u001b[0;32m31\u001b[0m\n\u001b[0;31m    return\u001b[0m\n\u001b[0m          ^\u001b[0m\n\u001b[0;31mSyntaxError\u001b[0m\u001b[0;31m:\u001b[0m 'return' outside function\n"
     ]
    }
   ],
   "source": [
    "#######################################################\n",
    "# FUNCTION: GENERATE MODEL INPUT FILE\n",
    "#======================================================\n",
    "def genAppInputFile(inputData, appTmpltFiles, appInputFiles, nInputs, inputNames):\n",
    "    nfiles = len(appInputFiles)\n",
    "    for i in range(nfiles):\n",
    "        infile = open(appTmpltFiles[i], \"r\")\n",
    "        outfile = open(appInputFiles[i], \"w\")\n",
    "        while 1:\n",
    "            lineIn  = infile.readline()\n",
    "            if lineIn == \"\":\n",
    "                break\n",
    "            lineLen = len(lineIn)\n",
    "            newLine = lineIn\n",
    "            if nInputs > 0:\n",
    "                for fInd in range(nInputs):\n",
    "                    strLen = len(inputNames[fInd])\n",
    "                    while 1:\n",
    "                        sInd = newLine.find(inputNames[fInd])\n",
    "                        if sInd < 0:\n",
    "                            break\n",
    "                        sdata = '%7.3f' % inputData[fInd]\n",
    "                        strdata = str(sdata)\n",
    "                        ntidx = sInd + strLen\n",
    "                        lineTemp = newLine[0:sInd] + strdata +  \" \" + newLine[ntidx:lineLen+1]\n",
    "                        newLine = lineTemp\n",
    "                        lineLen = len(newLine)\n",
    "            outfile.write(newLine)\n",
    "        infile.close()\n",
    "        outfile.close()\n",
    "return"
   ]
  },
  {
   "cell_type": "code",
   "execution_count": 5,
   "metadata": {},
   "outputs": [
    {
     "data": {
      "text/plain": [
       "<function __main__.genAppInputFile>"
      ]
     },
     "execution_count": 5,
     "metadata": {},
     "output_type": "execute_result"
    }
   ],
   "source": [
    "def genAppInputFile(inputData, appTmpltFiles, appInputFiles, nInputs, inputNames):\n",
    "    '''\n",
    "    Create new file managers and parameter files\n",
    "    '''\n",
    "    with open(paramTemplate, 'r') as infile:\n",
    "        with open(paramFile, 'w') as outfile:\n",
    "            \n",
    "               "
   ]
  },
  {
   "cell_type": "code",
   "execution_count": null,
   "metadata": {},
   "outputs": [],
   "source": []
  }
 ],
 "metadata": {
  "kernelspec": {
   "display_name": "Python (SHARP)",
   "language": "python",
   "name": "sharp"
  },
  "language_info": {
   "codemirror_mode": {
    "name": "ipython",
    "version": 3
   },
   "file_extension": ".py",
   "mimetype": "text/x-python",
   "name": "python",
   "nbconvert_exporter": "python",
   "pygments_lexer": "ipython3",
   "version": "3.6.4"
  }
 },
 "nbformat": 4,
 "nbformat_minor": 2
}
